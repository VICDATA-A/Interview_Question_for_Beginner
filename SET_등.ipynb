{
  "nbformat": 4,
  "nbformat_minor": 0,
  "metadata": {
    "colab": {
      "name": "SET 등.ipynb",
      "provenance": [],
      "collapsed_sections": [],
      "authorship_tag": "ABX9TyOLCV+hVnlyz/JhrhUTBrEv",
      "include_colab_link": true
    },
    "kernelspec": {
      "name": "python3",
      "display_name": "Python 3"
    },
    "language_info": {
      "name": "python"
    }
  },
  "cells": [
    {
      "cell_type": "markdown",
      "metadata": {
        "id": "view-in-github",
        "colab_type": "text"
      },
      "source": [
        "<a href=\"https://colab.research.google.com/github/VICDATA-A/Interview_Question_for_Beginner/blob/master/SET_%EB%93%B1.ipynb\" target=\"_parent\"><img src=\"https://colab.research.google.com/assets/colab-badge.svg\" alt=\"Open In Colab\"/></a>"
      ]
    },
    {
      "cell_type": "markdown",
      "metadata": {
        "id": "9A2nIJyOCUxD"
      },
      "source": [
        "> 세트는 중복값제거 순서 없음!"
      ]
    },
    {
      "cell_type": "code",
      "metadata": {
        "colab": {
          "base_uri": "https://localhost:8080/"
        },
        "id": "J9nXsgSSBmY2",
        "outputId": "10c9add4-9c11-4b13-acc0-79b852e0d8bc"
      },
      "source": [
        "set1 = {1, 2, 3}\n",
        "set1a = {1, 2, 3, 3}\n",
        "print(set1)\n",
        "print(set1a)"
      ],
      "execution_count": null,
      "outputs": [
        {
          "output_type": "stream",
          "text": [
            "{1, 2, 3}\n",
            "{1, 2, 3}\n"
          ],
          "name": "stdout"
        }
      ]
    },
    {
      "cell_type": "code",
      "metadata": {
        "colab": {
          "base_uri": "https://localhost:8080/"
        },
        "id": "Kw4e4Pb2B6ty",
        "outputId": "00bc0671-acb6-412b-ebbe-ace7d7ca68c1"
      },
      "source": [
        "type(set1)"
      ],
      "execution_count": null,
      "outputs": [
        {
          "output_type": "execute_result",
          "data": {
            "text/plain": [
              "set"
            ]
          },
          "metadata": {
            "tags": []
          },
          "execution_count": 3
        }
      ]
    },
    {
      "cell_type": "code",
      "metadata": {
        "colab": {
          "base_uri": "https://localhost:8080/"
        },
        "id": "qM3D0z-OCc3B",
        "outputId": "2572ffd0-246d-4512-a732-e972e9f8c603"
      },
      "source": [
        "A = {1, 2, 3, 4, 5}\n",
        "B = {4, 5, 6, 7, 8, 9, 10}\n",
        "A.intersection(B)"
      ],
      "execution_count": null,
      "outputs": [
        {
          "output_type": "execute_result",
          "data": {
            "text/plain": [
              "{4, 5}"
            ]
          },
          "metadata": {
            "tags": []
          },
          "execution_count": 4
        }
      ]
    },
    {
      "cell_type": "code",
      "metadata": {
        "colab": {
          "base_uri": "https://localhost:8080/"
        },
        "id": "9hcQR_voCmVL",
        "outputId": "22b5bee0-8a14-4c27-8011-2ba6300fb917"
      },
      "source": [
        "A.union(B)"
      ],
      "execution_count": null,
      "outputs": [
        {
          "output_type": "execute_result",
          "data": {
            "text/plain": [
              "{1, 2, 3, 4, 5, 6, 7, 8, 9, 10}"
            ]
          },
          "metadata": {
            "tags": []
          },
          "execution_count": 5
        }
      ]
    },
    {
      "cell_type": "code",
      "metadata": {
        "colab": {
          "base_uri": "https://localhost:8080/"
        },
        "id": "bk2sctGYCo1E",
        "outputId": "71a8a9e9-1fa9-4c3d-cbff-f292cb0c029f"
      },
      "source": [
        "A.difference(B)"
      ],
      "execution_count": null,
      "outputs": [
        {
          "output_type": "execute_result",
          "data": {
            "text/plain": [
              "{1, 2, 3}"
            ]
          },
          "metadata": {
            "tags": []
          },
          "execution_count": 6
        }
      ]
    },
    {
      "cell_type": "code",
      "metadata": {
        "colab": {
          "base_uri": "https://localhost:8080/"
        },
        "id": "AN2iDmcmCtDD",
        "outputId": "c749b6cc-3153-4176-a650-4e879c0fbd11"
      },
      "source": [
        "a = [1, 2 ,3 , 4 ,5]\n",
        "type(a)"
      ],
      "execution_count": null,
      "outputs": [
        {
          "output_type": "execute_result",
          "data": {
            "text/plain": [
              "list"
            ]
          },
          "metadata": {
            "tags": []
          },
          "execution_count": 7
        }
      ]
    },
    {
      "cell_type": "code",
      "metadata": {
        "colab": {
          "base_uri": "https://localhost:8080/"
        },
        "id": "LtocSoRhCyFs",
        "outputId": "c30b9394-7471-4888-d85c-1833eb3fe9c9"
      },
      "source": [
        "b = tuple(a)\n",
        "b"
      ],
      "execution_count": null,
      "outputs": [
        {
          "output_type": "execute_result",
          "data": {
            "text/plain": [
              "(1, 2, 3, 4, 5)"
            ]
          },
          "metadata": {
            "tags": []
          },
          "execution_count": 8
        }
      ]
    },
    {
      "cell_type": "code",
      "metadata": {
        "colab": {
          "base_uri": "https://localhost:8080/"
        },
        "id": "II30xM4xC1XT",
        "outputId": "0d3cf2e4-4913-456b-d2b1-b4e531720958"
      },
      "source": [
        "c = set(a)\n",
        "c"
      ],
      "execution_count": null,
      "outputs": [
        {
          "output_type": "execute_result",
          "data": {
            "text/plain": [
              "{1, 2, 3, 4, 5}"
            ]
          },
          "metadata": {
            "tags": []
          },
          "execution_count": 9
        }
      ]
    },
    {
      "cell_type": "code",
      "metadata": {
        "colab": {
          "base_uri": "https://localhost:8080/"
        },
        "id": "TvYKUgU1C4RR",
        "outputId": "0d6b8fcc-a0ee-454c-dbea-221e83b597e8"
      },
      "source": [
        "list(b)"
      ],
      "execution_count": null,
      "outputs": [
        {
          "output_type": "execute_result",
          "data": {
            "text/plain": [
              "[1, 2, 3, 4, 5]"
            ]
          },
          "metadata": {
            "tags": []
          },
          "execution_count": 10
        }
      ]
    },
    {
      "cell_type": "code",
      "metadata": {
        "id": "s_emM5U2C66U",
        "colab": {
          "base_uri": "https://localhost:8080/"
        },
        "outputId": "86cf03c0-e740-497f-830a-e9fe562df12f"
      },
      "source": [
        "list(c)"
      ],
      "execution_count": null,
      "outputs": [
        {
          "output_type": "execute_result",
          "data": {
            "text/plain": [
              "[1, 2, 3, 4, 5]"
            ]
          },
          "metadata": {
            "tags": []
          },
          "execution_count": 12
        }
      ]
    },
    {
      "cell_type": "code",
      "metadata": {
        "id": "fZZjam3gC8wH",
        "colab": {
          "base_uri": "https://localhost:8080/"
        },
        "outputId": "40010162-5cb9-4e5a-b322-1c7ab64918af"
      },
      "source": [
        "x = 75\n",
        "if x > 90:\n",
        "    print('Fass')\n",
        "else:\n",
        "    print('Fail')"
      ],
      "execution_count": 1,
      "outputs": [
        {
          "output_type": "stream",
          "text": [
            "Fail\n"
          ],
          "name": "stdout"
        }
      ]
    },
    {
      "cell_type": "code",
      "metadata": {
        "colab": {
          "base_uri": "https://localhost:8080/"
        },
        "id": "N3MTKizIqX6s",
        "outputId": "991c03e4-1aa4-423d-bb00-1a7e549c2f3e"
      },
      "source": [
        "x = 85\n",
        "if x >= 90:\n",
        "    print(\"Very good\")\n",
        "elif 90<= x < 90:\n",
        "    print(\"Good\")\n",
        "else:\n",
        "    print('Bad')"
      ],
      "execution_count": 8,
      "outputs": [
        {
          "output_type": "stream",
          "text": [
            "Bad\n"
          ],
          "name": "stdout"
        }
      ]
    },
    {
      "cell_type": "code",
      "metadata": {
        "colab": {
          "base_uri": "https://localhost:8080/"
        },
        "id": "OZ_SzbMgy-6t",
        "outputId": "0e3a60de-daad-4132-9200-7a91d41c334e"
      },
      "source": [
        "if x > 90:\n",
        "    if x == 100:\n",
        "        print('완벽')\n",
        "    else:\n",
        "        print('훌륭')\n",
        "elif 80 <= x <90:\n",
        "    print(\"잘했음\")\n",
        "else:\n",
        "    print(\"노력필요\")"
      ],
      "execution_count": 10,
      "outputs": [
        {
          "output_type": "stream",
          "text": [
            "잘했음\n"
          ],
          "name": "stdout"
        }
      ]
    },
    {
      "cell_type": "code",
      "metadata": {
        "colab": {
          "base_uri": "https://localhost:8080/"
        },
        "id": "ZexHgyce1vpc",
        "outputId": "66da1088-d277-4324-871d-04f928909638"
      },
      "source": [
        "s = 0\n",
        "for i in range(0, 6, 2): ## range(start, stop, step), stop은 미포함\n",
        "    s += i\n",
        "print(s)"
      ],
      "execution_count": 31,
      "outputs": [
        {
          "output_type": "stream",
          "text": [
            "6\n"
          ],
          "name": "stdout"
        }
      ]
    },
    {
      "cell_type": "code",
      "metadata": {
        "colab": {
          "base_uri": "https://localhost:8080/"
        },
        "id": "cbnHLxJpDMZ6",
        "outputId": "ed2d8d8f-b95e-4cc4-c107-c84a4b80b964"
      },
      "source": [
        "result = []\n",
        "for i in range(1, 11):\n",
        "    result.append(i)\n",
        "print(result)"
      ],
      "execution_count": 49,
      "outputs": [
        {
          "output_type": "stream",
          "text": [
            "[1, 2, 3, 4, 5, 6, 7, 8, 9, 10]\n"
          ],
          "name": "stdout"
        }
      ]
    },
    {
      "cell_type": "code",
      "metadata": {
        "colab": {
          "base_uri": "https://localhost:8080/"
        },
        "id": "PUuERMH_Fg1L",
        "outputId": "5707b9e7-2433-4086-edec-c2d234edbc6f"
      },
      "source": [
        "count = 1\n",
        "for i in range(2, 10):\n",
        "    count += 1\n",
        "    print('<',count,'단 >')\n",
        "    for j in range(2, 10):\n",
        "        print(i, '*', j, '=', i*j)\n",
        "    print()"
      ],
      "execution_count": 74,
      "outputs": [
        {
          "output_type": "stream",
          "text": [
            "< 2 단 >\n",
            "2 * 2 = 4\n",
            "2 * 3 = 6\n",
            "2 * 4 = 8\n",
            "2 * 5 = 10\n",
            "2 * 6 = 12\n",
            "2 * 7 = 14\n",
            "2 * 8 = 16\n",
            "2 * 9 = 18\n",
            "\n",
            "< 3 단 >\n",
            "3 * 2 = 6\n",
            "3 * 3 = 9\n",
            "3 * 4 = 12\n",
            "3 * 5 = 15\n",
            "3 * 6 = 18\n",
            "3 * 7 = 21\n",
            "3 * 8 = 24\n",
            "3 * 9 = 27\n",
            "\n",
            "< 4 단 >\n",
            "4 * 2 = 8\n",
            "4 * 3 = 12\n",
            "4 * 4 = 16\n",
            "4 * 5 = 20\n",
            "4 * 6 = 24\n",
            "4 * 7 = 28\n",
            "4 * 8 = 32\n",
            "4 * 9 = 36\n",
            "\n",
            "< 5 단 >\n",
            "5 * 2 = 10\n",
            "5 * 3 = 15\n",
            "5 * 4 = 20\n",
            "5 * 5 = 25\n",
            "5 * 6 = 30\n",
            "5 * 7 = 35\n",
            "5 * 8 = 40\n",
            "5 * 9 = 45\n",
            "\n",
            "< 6 단 >\n",
            "6 * 2 = 12\n",
            "6 * 3 = 18\n",
            "6 * 4 = 24\n",
            "6 * 5 = 30\n",
            "6 * 6 = 36\n",
            "6 * 7 = 42\n",
            "6 * 8 = 48\n",
            "6 * 9 = 54\n",
            "\n",
            "< 7 단 >\n",
            "7 * 2 = 14\n",
            "7 * 3 = 21\n",
            "7 * 4 = 28\n",
            "7 * 5 = 35\n",
            "7 * 6 = 42\n",
            "7 * 7 = 49\n",
            "7 * 8 = 56\n",
            "7 * 9 = 63\n",
            "\n",
            "< 8 단 >\n",
            "8 * 2 = 16\n",
            "8 * 3 = 24\n",
            "8 * 4 = 32\n",
            "8 * 5 = 40\n",
            "8 * 6 = 48\n",
            "8 * 7 = 56\n",
            "8 * 8 = 64\n",
            "8 * 9 = 72\n",
            "\n",
            "< 9 단 >\n",
            "9 * 2 = 18\n",
            "9 * 3 = 27\n",
            "9 * 4 = 36\n",
            "9 * 5 = 45\n",
            "9 * 6 = 54\n",
            "9 * 7 = 63\n",
            "9 * 8 = 72\n",
            "9 * 9 = 81\n",
            "\n"
          ],
          "name": "stdout"
        }
      ]
    },
    {
      "cell_type": "code",
      "metadata": {
        "colab": {
          "base_uri": "https://localhost:8080/"
        },
        "id": "ALog4YCuLjGV",
        "outputId": "3a961524-c557-4402-87b0-08662ed7d559"
      },
      "source": [
        "x_list = ['x1', 'x2']\n",
        "y_list = ['y1', 'y2']\n",
        "\n",
        "print('x  | y')\n",
        "for x in x_list:\n",
        "    for y in y_list:\n",
        "        print(x,'|',y)"
      ],
      "execution_count": 89,
      "outputs": [
        {
          "output_type": "stream",
          "text": [
            "x  | y\n",
            "x1 | y1\n",
            "x1 | y2\n",
            "x2 | y1\n",
            "x2 | y2\n"
          ],
          "name": "stdout"
        }
      ]
    },
    {
      "cell_type": "code",
      "metadata": {
        "colab": {
          "base_uri": "https://localhost:8080/"
        },
        "id": "2t4V2ZLtOMg6",
        "outputId": "260c6a93-9dc4-48d0-e0df-89809b288c4d"
      },
      "source": [
        "names = ['James', 'Robert', \"Lisa\", 'Mary']\n",
        "scores = [95, 96, 97, 98]\n",
        "\n",
        "for k in range(len(names)):\n",
        "    print(names[k],'의 점수', scores[k],\"점\")"
      ],
      "execution_count": 94,
      "outputs": [
        {
          "output_type": "stream",
          "text": [
            "James 의 점수 95 점\n",
            "Robert 의 점수 96 점\n",
            "Lisa 의 점수 97 점\n",
            "Mary 의 점수 98 점\n"
          ],
          "name": "stdout"
        }
      ]
    },
    {
      "cell_type": "code",
      "metadata": {
        "colab": {
          "base_uri": "https://localhost:8080/"
        },
        "id": "3pdGA7qyO4Cq",
        "outputId": "189b6a08-6124-4e01-efb3-4834e79d0d58"
      },
      "source": [
        "name = ['jason', 'john', 'david', 'lisa']\n",
        "scores = [66, 45, 88, 99]\n",
        "for i in range(len(name)):\n",
        "    print(name[i], scores[i])"
      ],
      "execution_count": 99,
      "outputs": [
        {
          "output_type": "stream",
          "text": [
            "jason 66\n",
            "john 45\n",
            "david 88\n",
            "lisa 99\n"
          ],
          "name": "stdout"
        }
      ]
    },
    {
      "cell_type": "code",
      "metadata": {
        "colab": {
          "base_uri": "https://localhost:8080/"
        },
        "id": "pMPNZ8J5TuF6",
        "outputId": "e04ce0e4-bf4e-4846-b65d-049adb786a12"
      },
      "source": [
        "for name,scores in zip(name,scores):\n",
        "    print(name,scores)"
      ],
      "execution_count": 100,
      "outputs": [
        {
          "output_type": "stream",
          "text": [
            "jason 66\n",
            "john 45\n",
            "david 88\n",
            "lisa 99\n"
          ],
          "name": "stdout"
        }
      ]
    },
    {
      "cell_type": "code",
      "metadata": {
        "colab": {
          "base_uri": "https://localhost:8080/",
          "height": 215
        },
        "id": "iG74weZaVVUL",
        "outputId": "8d71db29-0787-4a1c-d9b8-a67e2d44ebd5"
      },
      "source": [
        ""
      ],
      "execution_count": 103,
      "outputs": [
        {
          "output_type": "error",
          "ename": "TypeError",
          "evalue": "ignored",
          "traceback": [
            "\u001b[0;31m---------------------------------------------------------------------------\u001b[0m",
            "\u001b[0;31mTypeError\u001b[0m                                 Traceback (most recent call last)",
            "\u001b[0;32m<ipython-input-103-0f47c937e029>\u001b[0m in \u001b[0;36m<module>\u001b[0;34m()\u001b[0m\n\u001b[0;32m----> 1\u001b[0;31m \u001b[0;32mfor\u001b[0m \u001b[0mname\u001b[0m\u001b[0;34m,\u001b[0m\u001b[0mscores\u001b[0m \u001b[0;32min\u001b[0m \u001b[0mzip\u001b[0m\u001b[0;34m(\u001b[0m\u001b[0mname\u001b[0m\u001b[0;34m,\u001b[0m\u001b[0mscores\u001b[0m\u001b[0;34m)\u001b[0m\u001b[0;34m:\u001b[0m\u001b[0;34m\u001b[0m\u001b[0;34m\u001b[0m\u001b[0m\n\u001b[0m\u001b[1;32m      2\u001b[0m     \u001b[0mprint\u001b[0m\u001b[0;34m(\u001b[0m\u001b[0mname\u001b[0m\u001b[0;34m,\u001b[0m \u001b[0mscores\u001b[0m\u001b[0;34m)\u001b[0m\u001b[0;34m\u001b[0m\u001b[0;34m\u001b[0m\u001b[0m\n",
            "\u001b[0;31mTypeError\u001b[0m: zip argument #2 must support iteration"
          ]
        }
      ]
    },
    {
      "cell_type": "code",
      "metadata": {
        "colab": {
          "base_uri": "https://localhost:8080/"
        },
        "id": "fN5Wbt8vcCMq",
        "outputId": "f1011a3e-daab-437e-ea97-f5d13f59fd36"
      },
      "source": [
        "i = 0\n",
        "sum = 0\n",
        "print('i열|sum열')\n",
        "while sum<20:\n",
        "    i += 1\n",
        "    sum += i\n",
        "    print()\n",
        "    print(i,'|',sum)"
      ],
      "execution_count": 117,
      "outputs": [
        {
          "output_type": "stream",
          "text": [
            "i열|sum열\n",
            "\n",
            "1 | 1\n",
            "\n",
            "2 | 3\n",
            "\n",
            "3 | 6\n",
            "\n",
            "4 | 10\n",
            "\n",
            "5 | 15\n",
            "\n",
            "6 | 21\n"
          ],
          "name": "stdout"
        }
      ]
    },
    {
      "cell_type": "code",
      "metadata": {
        "colab": {
          "base_uri": "https://localhost:8080/"
        },
        "id": "yPIdT7m9d7ff",
        "outputId": "9fb9d8d4-16be-46ea-82de-17abb5669e6a"
      },
      "source": [
        "k = 0\n",
        "while True:\n",
        "    k += 1\n",
        "\n",
        "    if k > 3:\n",
        "        break\n",
        "    print(k)"
      ],
      "execution_count": 121,
      "outputs": [
        {
          "output_type": "stream",
          "text": [
            "1\n",
            "2\n",
            "3\n"
          ],
          "name": "stdout"
        }
      ]
    },
    {
      "cell_type": "code",
      "metadata": {
        "id": "ISJaNjGFeq8f"
      },
      "source": [
        ""
      ],
      "execution_count": null,
      "outputs": []
    }
  ]
}